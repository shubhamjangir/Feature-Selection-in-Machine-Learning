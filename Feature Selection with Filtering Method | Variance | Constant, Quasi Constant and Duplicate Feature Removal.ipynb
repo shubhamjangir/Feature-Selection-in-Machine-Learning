{
 "cells": [
  {
   "cell_type": "markdown",
   "id": "01f9ff98",
   "metadata": {},
   "source": [
    "### Feature Selection with Filtering Method | Variance | Constant, Quasi Constant and Duplicate Feature Removal"
   ]
  },
  {
   "cell_type": "markdown",
   "id": "5a624963",
   "metadata": {},
   "source": [
    "Unnecessary and redundant features not only slow down the training time of the algorithm but also affect the performance of the algorithm"
   ]
  },
  {
   "cell_type": "markdown",
   "id": "04e2bdb0",
   "metadata": {},
   "source": [
    "Advantages of performing feature selection before training machine learning models:"
   ]
  },
  {
   "cell_type": "markdown",
   "id": "820c7506",
   "metadata": {},
   "source": [
    "-Models with less number of feature have higher explainibility.    \n",
    "-It is easier to implement machine learning moodels with less features.     \n",
    "-Feature selection removes data redudancy.    \n",
    "-Training time of the model is significantly lower.     \n",
    "-Models with less features are less prone to error.     \n",
    "-It enchances generlalization which in turn redcues overfitting.      "
   ]
  },
  {
   "cell_type": "markdown",
   "id": "e12dfff7",
   "metadata": {},
   "source": [
    "### Filter Method"
   ]
  },
  {
   "cell_type": "markdown",
   "id": "dba28664",
   "metadata": {},
   "source": [
    "Feature selected using filter method can be used as the input to machine learning algorithm.    \n",
    "Very fast. "
   ]
  },
  {
   "cell_type": "markdown",
   "id": "316dcc89",
   "metadata": {},
   "source": [
    "-Univariate     \n",
    "-Multi-variate"
   ]
  },
  {
   "cell_type": "markdown",
   "id": "cbf42060",
   "metadata": {},
   "source": [
    "In univariate we select featurers without taking in consideration the other features. They are independent of each other. Top N features are selected. Different types of ranking criteria are used. "
   ]
  },
  {
   "cell_type": "markdown",
   "id": "8e2c3fa5",
   "metadata": {},
   "source": [
    "In Multivariate we consider the other feature while performing and their score or dependency is taken into account. They are best used to remove the redundant featurers beacause they take the mutual information between the featuers into account."
   ]
  },
  {
   "cell_type": "markdown",
   "id": "438f6d82",
   "metadata": {},
   "source": [
    "High Variance in predictors: Good Indication     \n",
    "Low Variance predictors: Not good for model"
   ]
  },
  {
   "cell_type": "markdown",
   "id": "e93da943",
   "metadata": {},
   "source": [
    "### Univariate Variance Filtering method"
   ]
  },
  {
   "cell_type": "markdown",
   "id": "33b4986a",
   "metadata": {},
   "source": [
    "-Constant Removal    \n",
    "-Quasi Constant Removal    \n",
    "-Duplicate Feature Removal    "
   ]
  },
  {
   "cell_type": "code",
   "execution_count": 2,
   "id": "7dac5a00",
   "metadata": {},
   "outputs": [],
   "source": [
    "import numpy as np\n",
    "import pandas as pd\n",
    "import matplotlib.pyplot as plt\n",
    "import seaborn as sns"
   ]
  },
  {
   "cell_type": "code",
   "execution_count": 3,
   "id": "5a7d8816",
   "metadata": {},
   "outputs": [],
   "source": [
    "from sklearn.model_selection import train_test_split\n",
    "from sklearn.ensemble import RandomForestClassifier\n",
    "from sklearn.metrics import accuracy_score\n",
    "from sklearn.feature_selection import VarianceThreshold"
   ]
  },
  {
   "cell_type": "code",
   "execution_count": 6,
   "id": "c0296f66",
   "metadata": {},
   "outputs": [
    {
     "data": {
      "text/html": [
       "<div>\n",
       "<style scoped>\n",
       "    .dataframe tbody tr th:only-of-type {\n",
       "        vertical-align: middle;\n",
       "    }\n",
       "\n",
       "    .dataframe tbody tr th {\n",
       "        vertical-align: top;\n",
       "    }\n",
       "\n",
       "    .dataframe thead th {\n",
       "        text-align: right;\n",
       "    }\n",
       "</style>\n",
       "<table border=\"1\" class=\"dataframe\">\n",
       "  <thead>\n",
       "    <tr style=\"text-align: right;\">\n",
       "      <th></th>\n",
       "      <th>ID</th>\n",
       "      <th>var3</th>\n",
       "      <th>var15</th>\n",
       "      <th>imp_ent_var16_ult1</th>\n",
       "      <th>imp_op_var39_comer_ult1</th>\n",
       "      <th>imp_op_var39_comer_ult3</th>\n",
       "      <th>imp_op_var40_comer_ult1</th>\n",
       "      <th>imp_op_var40_comer_ult3</th>\n",
       "      <th>imp_op_var40_efect_ult1</th>\n",
       "      <th>imp_op_var40_efect_ult3</th>\n",
       "      <th>...</th>\n",
       "      <th>saldo_medio_var33_hace2</th>\n",
       "      <th>saldo_medio_var33_hace3</th>\n",
       "      <th>saldo_medio_var33_ult1</th>\n",
       "      <th>saldo_medio_var33_ult3</th>\n",
       "      <th>saldo_medio_var44_hace2</th>\n",
       "      <th>saldo_medio_var44_hace3</th>\n",
       "      <th>saldo_medio_var44_ult1</th>\n",
       "      <th>saldo_medio_var44_ult3</th>\n",
       "      <th>var38</th>\n",
       "      <th>TARGET</th>\n",
       "    </tr>\n",
       "  </thead>\n",
       "  <tbody>\n",
       "    <tr>\n",
       "      <th>0</th>\n",
       "      <td>1</td>\n",
       "      <td>2</td>\n",
       "      <td>23</td>\n",
       "      <td>0.0</td>\n",
       "      <td>0.0</td>\n",
       "      <td>0.0</td>\n",
       "      <td>0.0</td>\n",
       "      <td>0.0</td>\n",
       "      <td>0</td>\n",
       "      <td>0</td>\n",
       "      <td>...</td>\n",
       "      <td>0.0</td>\n",
       "      <td>0.0</td>\n",
       "      <td>0.0</td>\n",
       "      <td>0.0</td>\n",
       "      <td>0.0</td>\n",
       "      <td>0.0</td>\n",
       "      <td>0.0</td>\n",
       "      <td>0.0</td>\n",
       "      <td>39205.170000</td>\n",
       "      <td>0</td>\n",
       "    </tr>\n",
       "    <tr>\n",
       "      <th>1</th>\n",
       "      <td>3</td>\n",
       "      <td>2</td>\n",
       "      <td>34</td>\n",
       "      <td>0.0</td>\n",
       "      <td>0.0</td>\n",
       "      <td>0.0</td>\n",
       "      <td>0.0</td>\n",
       "      <td>0.0</td>\n",
       "      <td>0</td>\n",
       "      <td>0</td>\n",
       "      <td>...</td>\n",
       "      <td>0.0</td>\n",
       "      <td>0.0</td>\n",
       "      <td>0.0</td>\n",
       "      <td>0.0</td>\n",
       "      <td>0.0</td>\n",
       "      <td>0.0</td>\n",
       "      <td>0.0</td>\n",
       "      <td>0.0</td>\n",
       "      <td>49278.030000</td>\n",
       "      <td>0</td>\n",
       "    </tr>\n",
       "    <tr>\n",
       "      <th>2</th>\n",
       "      <td>4</td>\n",
       "      <td>2</td>\n",
       "      <td>23</td>\n",
       "      <td>0.0</td>\n",
       "      <td>0.0</td>\n",
       "      <td>0.0</td>\n",
       "      <td>0.0</td>\n",
       "      <td>0.0</td>\n",
       "      <td>0</td>\n",
       "      <td>0</td>\n",
       "      <td>...</td>\n",
       "      <td>0.0</td>\n",
       "      <td>0.0</td>\n",
       "      <td>0.0</td>\n",
       "      <td>0.0</td>\n",
       "      <td>0.0</td>\n",
       "      <td>0.0</td>\n",
       "      <td>0.0</td>\n",
       "      <td>0.0</td>\n",
       "      <td>67333.770000</td>\n",
       "      <td>0</td>\n",
       "    </tr>\n",
       "    <tr>\n",
       "      <th>3</th>\n",
       "      <td>8</td>\n",
       "      <td>2</td>\n",
       "      <td>37</td>\n",
       "      <td>0.0</td>\n",
       "      <td>195.0</td>\n",
       "      <td>195.0</td>\n",
       "      <td>0.0</td>\n",
       "      <td>0.0</td>\n",
       "      <td>0</td>\n",
       "      <td>0</td>\n",
       "      <td>...</td>\n",
       "      <td>0.0</td>\n",
       "      <td>0.0</td>\n",
       "      <td>0.0</td>\n",
       "      <td>0.0</td>\n",
       "      <td>0.0</td>\n",
       "      <td>0.0</td>\n",
       "      <td>0.0</td>\n",
       "      <td>0.0</td>\n",
       "      <td>64007.970000</td>\n",
       "      <td>0</td>\n",
       "    </tr>\n",
       "    <tr>\n",
       "      <th>4</th>\n",
       "      <td>10</td>\n",
       "      <td>2</td>\n",
       "      <td>39</td>\n",
       "      <td>0.0</td>\n",
       "      <td>0.0</td>\n",
       "      <td>0.0</td>\n",
       "      <td>0.0</td>\n",
       "      <td>0.0</td>\n",
       "      <td>0</td>\n",
       "      <td>0</td>\n",
       "      <td>...</td>\n",
       "      <td>0.0</td>\n",
       "      <td>0.0</td>\n",
       "      <td>0.0</td>\n",
       "      <td>0.0</td>\n",
       "      <td>0.0</td>\n",
       "      <td>0.0</td>\n",
       "      <td>0.0</td>\n",
       "      <td>0.0</td>\n",
       "      <td>117310.979016</td>\n",
       "      <td>0</td>\n",
       "    </tr>\n",
       "  </tbody>\n",
       "</table>\n",
       "<p>5 rows × 371 columns</p>\n",
       "</div>"
      ],
      "text/plain": [
       "   ID  var3  var15  imp_ent_var16_ult1  imp_op_var39_comer_ult1  \\\n",
       "0   1     2     23                 0.0                      0.0   \n",
       "1   3     2     34                 0.0                      0.0   \n",
       "2   4     2     23                 0.0                      0.0   \n",
       "3   8     2     37                 0.0                    195.0   \n",
       "4  10     2     39                 0.0                      0.0   \n",
       "\n",
       "   imp_op_var39_comer_ult3  imp_op_var40_comer_ult1  imp_op_var40_comer_ult3  \\\n",
       "0                      0.0                      0.0                      0.0   \n",
       "1                      0.0                      0.0                      0.0   \n",
       "2                      0.0                      0.0                      0.0   \n",
       "3                    195.0                      0.0                      0.0   \n",
       "4                      0.0                      0.0                      0.0   \n",
       "\n",
       "   imp_op_var40_efect_ult1  imp_op_var40_efect_ult3  ...  \\\n",
       "0                        0                        0  ...   \n",
       "1                        0                        0  ...   \n",
       "2                        0                        0  ...   \n",
       "3                        0                        0  ...   \n",
       "4                        0                        0  ...   \n",
       "\n",
       "   saldo_medio_var33_hace2  saldo_medio_var33_hace3  saldo_medio_var33_ult1  \\\n",
       "0                      0.0                      0.0                     0.0   \n",
       "1                      0.0                      0.0                     0.0   \n",
       "2                      0.0                      0.0                     0.0   \n",
       "3                      0.0                      0.0                     0.0   \n",
       "4                      0.0                      0.0                     0.0   \n",
       "\n",
       "   saldo_medio_var33_ult3  saldo_medio_var44_hace2  saldo_medio_var44_hace3  \\\n",
       "0                     0.0                      0.0                      0.0   \n",
       "1                     0.0                      0.0                      0.0   \n",
       "2                     0.0                      0.0                      0.0   \n",
       "3                     0.0                      0.0                      0.0   \n",
       "4                     0.0                      0.0                      0.0   \n",
       "\n",
       "   saldo_medio_var44_ult1  saldo_medio_var44_ult3          var38  TARGET  \n",
       "0                     0.0                     0.0   39205.170000       0  \n",
       "1                     0.0                     0.0   49278.030000       0  \n",
       "2                     0.0                     0.0   67333.770000       0  \n",
       "3                     0.0                     0.0   64007.970000       0  \n",
       "4                     0.0                     0.0  117310.979016       0  \n",
       "\n",
       "[5 rows x 371 columns]"
      ]
     },
     "execution_count": 6,
     "metadata": {},
     "output_type": "execute_result"
    }
   ],
   "source": [
    "data = pd.read_csv('train.csv',nrows=20000)\n",
    "data.head(5)"
   ]
  },
  {
   "cell_type": "code",
   "execution_count": 7,
   "id": "0ccdde68",
   "metadata": {},
   "outputs": [
    {
     "data": {
      "text/plain": [
       "((20000, 370), (20000,))"
      ]
     },
     "execution_count": 7,
     "metadata": {},
     "output_type": "execute_result"
    }
   ],
   "source": [
    "X= data.drop('TARGET',axis=1)\n",
    "y=data['TARGET']\n",
    "\n",
    "X.shape,y.shape"
   ]
  },
  {
   "cell_type": "code",
   "execution_count": 9,
   "id": "c39c52fa",
   "metadata": {},
   "outputs": [],
   "source": [
    "X_train,X_test,y_train,y_test=train_test_split(X,y,test_size=0.2,random_state=0,stratify=y)"
   ]
  },
  {
   "cell_type": "markdown",
   "id": "6193c3b5",
   "metadata": {},
   "source": [
    "### Constant Removal"
   ]
  },
  {
   "cell_type": "markdown",
   "id": "5153aede",
   "metadata": {},
   "source": [
    "When threshold=0 variance will be 0 and all the feature value will be same."
   ]
  },
  {
   "cell_type": "code",
   "execution_count": 10,
   "id": "82932839",
   "metadata": {},
   "outputs": [
    {
     "data": {
      "text/plain": [
       "VarianceThreshold(threshold=0)"
      ]
     },
     "execution_count": 10,
     "metadata": {},
     "output_type": "execute_result"
    }
   ],
   "source": [
    "constant_filter=VarianceThreshold(threshold=0)\n",
    "constant_filter.fit(X_train)"
   ]
  },
  {
   "cell_type": "code",
   "execution_count": 11,
   "id": "8534dd21",
   "metadata": {},
   "outputs": [
    {
     "data": {
      "text/plain": [
       "291"
      ]
     },
     "execution_count": 11,
     "metadata": {},
     "output_type": "execute_result"
    }
   ],
   "source": [
    "constant_filter.get_support().sum()"
   ]
  },
  {
   "cell_type": "code",
   "execution_count": 15,
   "id": "194403ae",
   "metadata": {},
   "outputs": [
    {
     "data": {
      "text/plain": [
       "[False,\n",
       " False,\n",
       " False,\n",
       " False,\n",
       " False,\n",
       " False,\n",
       " False,\n",
       " False,\n",
       " False,\n",
       " False,\n",
       " False,\n",
       " False,\n",
       " False,\n",
       " False,\n",
       " False,\n",
       " False,\n",
       " False,\n",
       " False,\n",
       " False,\n",
       " False,\n",
       " False,\n",
       " False,\n",
       " True,\n",
       " True,\n",
       " False,\n",
       " False,\n",
       " False,\n",
       " False,\n",
       " False,\n",
       " False,\n",
       " False,\n",
       " False,\n",
       " False,\n",
       " False,\n",
       " False,\n",
       " False,\n",
       " False,\n",
       " True,\n",
       " True,\n",
       " False,\n",
       " False,\n",
       " False,\n",
       " False,\n",
       " False,\n",
       " True,\n",
       " True,\n",
       " False,\n",
       " False,\n",
       " False,\n",
       " False,\n",
       " False,\n",
       " False,\n",
       " False,\n",
       " False,\n",
       " False,\n",
       " False,\n",
       " False,\n",
       " True,\n",
       " True,\n",
       " True,\n",
       " True,\n",
       " False,\n",
       " False,\n",
       " False,\n",
       " False,\n",
       " False,\n",
       " False,\n",
       " False,\n",
       " False,\n",
       " False,\n",
       " False,\n",
       " False,\n",
       " True,\n",
       " True,\n",
       " False,\n",
       " False,\n",
       " False,\n",
       " False,\n",
       " False,\n",
       " False,\n",
       " False,\n",
       " True,\n",
       " False,\n",
       " False,\n",
       " False,\n",
       " True,\n",
       " True,\n",
       " False,\n",
       " False,\n",
       " False,\n",
       " False,\n",
       " False,\n",
       " False,\n",
       " False,\n",
       " False,\n",
       " False,\n",
       " False,\n",
       " False,\n",
       " False,\n",
       " False,\n",
       " False,\n",
       " False,\n",
       " False,\n",
       " True,\n",
       " True,\n",
       " False,\n",
       " False,\n",
       " False,\n",
       " False,\n",
       " False,\n",
       " True,\n",
       " True,\n",
       " False,\n",
       " False,\n",
       " False,\n",
       " False,\n",
       " False,\n",
       " False,\n",
       " False,\n",
       " False,\n",
       " False,\n",
       " False,\n",
       " False,\n",
       " False,\n",
       " False,\n",
       " False,\n",
       " False,\n",
       " False,\n",
       " False,\n",
       " False,\n",
       " False,\n",
       " False,\n",
       " True,\n",
       " True,\n",
       " True,\n",
       " True,\n",
       " False,\n",
       " False,\n",
       " False,\n",
       " False,\n",
       " False,\n",
       " False,\n",
       " False,\n",
       " False,\n",
       " False,\n",
       " False,\n",
       " True,\n",
       " True,\n",
       " False,\n",
       " False,\n",
       " False,\n",
       " False,\n",
       " False,\n",
       " False,\n",
       " False,\n",
       " False,\n",
       " True,\n",
       " False,\n",
       " False,\n",
       " False,\n",
       " False,\n",
       " False,\n",
       " True,\n",
       " True,\n",
       " False,\n",
       " False,\n",
       " False,\n",
       " False,\n",
       " False,\n",
       " False,\n",
       " False,\n",
       " True,\n",
       " False,\n",
       " False,\n",
       " False,\n",
       " True,\n",
       " False,\n",
       " False,\n",
       " False,\n",
       " False,\n",
       " True,\n",
       " True,\n",
       " False,\n",
       " False,\n",
       " False,\n",
       " False,\n",
       " False,\n",
       " True,\n",
       " False,\n",
       " False,\n",
       " True,\n",
       " False,\n",
       " False,\n",
       " True,\n",
       " False,\n",
       " True,\n",
       " True,\n",
       " False,\n",
       " False,\n",
       " False,\n",
       " False,\n",
       " False,\n",
       " False,\n",
       " True,\n",
       " False,\n",
       " True,\n",
       " False,\n",
       " True,\n",
       " False,\n",
       " False,\n",
       " False,\n",
       " False,\n",
       " False,\n",
       " False,\n",
       " False,\n",
       " True,\n",
       " False,\n",
       " True,\n",
       " False,\n",
       " True,\n",
       " False,\n",
       " True,\n",
       " True,\n",
       " True,\n",
       " True,\n",
       " False,\n",
       " False,\n",
       " False,\n",
       " False,\n",
       " False,\n",
       " False,\n",
       " True,\n",
       " False,\n",
       " False,\n",
       " False,\n",
       " True,\n",
       " False,\n",
       " True,\n",
       " False,\n",
       " True,\n",
       " True,\n",
       " False,\n",
       " False,\n",
       " True,\n",
       " False,\n",
       " True,\n",
       " True,\n",
       " True,\n",
       " False,\n",
       " True,\n",
       " True,\n",
       " False,\n",
       " False,\n",
       " True,\n",
       " False,\n",
       " False,\n",
       " False,\n",
       " False,\n",
       " False,\n",
       " False,\n",
       " False,\n",
       " False,\n",
       " True,\n",
       " True,\n",
       " False,\n",
       " False,\n",
       " False,\n",
       " False,\n",
       " False,\n",
       " False,\n",
       " True,\n",
       " False,\n",
       " False,\n",
       " False,\n",
       " False,\n",
       " False,\n",
       " False,\n",
       " False,\n",
       " False,\n",
       " False,\n",
       " False,\n",
       " False,\n",
       " False,\n",
       " False,\n",
       " False,\n",
       " False,\n",
       " True,\n",
       " False,\n",
       " False,\n",
       " False,\n",
       " False,\n",
       " False,\n",
       " False,\n",
       " False,\n",
       " False,\n",
       " False,\n",
       " False,\n",
       " False,\n",
       " False,\n",
       " False,\n",
       " False,\n",
       " False,\n",
       " False,\n",
       " False,\n",
       " True,\n",
       " False,\n",
       " True,\n",
       " False,\n",
       " True,\n",
       " True,\n",
       " False,\n",
       " False,\n",
       " False,\n",
       " False,\n",
       " True,\n",
       " False,\n",
       " True,\n",
       " True,\n",
       " True,\n",
       " False,\n",
       " True,\n",
       " True,\n",
       " False,\n",
       " False,\n",
       " False,\n",
       " False,\n",
       " False,\n",
       " False,\n",
       " True,\n",
       " False,\n",
       " False,\n",
       " False,\n",
       " False,\n",
       " False,\n",
       " False,\n",
       " False,\n",
       " False,\n",
       " False,\n",
       " False,\n",
       " False,\n",
       " False,\n",
       " False,\n",
       " False,\n",
       " False,\n",
       " False,\n",
       " False,\n",
       " False,\n",
       " False,\n",
       " False,\n",
       " True,\n",
       " True,\n",
       " True,\n",
       " True,\n",
       " False,\n",
       " False,\n",
       " False,\n",
       " False,\n",
       " False,\n",
       " True,\n",
       " False,\n",
       " False,\n",
       " False,\n",
       " False,\n",
       " False,\n",
       " False,\n",
       " False,\n",
       " False,\n",
       " False,\n",
       " False,\n",
       " False]"
      ]
     },
     "execution_count": 15,
     "metadata": {},
     "output_type": "execute_result"
    }
   ],
   "source": [
    "constant_list=[not temp for temp in constant_filter.get_support()]\n",
    "constant_list"
   ]
  },
  {
   "cell_type": "code",
   "execution_count": 17,
   "id": "31010b4a",
   "metadata": {},
   "outputs": [
    {
     "data": {
      "text/plain": [
       "Index(['ind_var2_0', 'ind_var2', 'ind_var13_medio_0', 'ind_var13_medio',\n",
       "       'ind_var18_0', 'ind_var18', 'ind_var27_0', 'ind_var28_0', 'ind_var28',\n",
       "       'ind_var27', 'ind_var34_0', 'ind_var34', 'ind_var41', 'ind_var46_0',\n",
       "       'ind_var46', 'num_var13_medio_0', 'num_var13_medio', 'num_var18_0',\n",
       "       'num_var18', 'num_var27_0', 'num_var28_0', 'num_var28', 'num_var27',\n",
       "       'num_var34_0', 'num_var34', 'num_var41', 'num_var46_0', 'num_var46',\n",
       "       'saldo_var13_medio', 'saldo_var18', 'saldo_var28', 'saldo_var27',\n",
       "       'saldo_var34', 'saldo_var41', 'saldo_var46',\n",
       "       'delta_imp_amort_var18_1y3', 'delta_imp_amort_var34_1y3',\n",
       "       'delta_imp_reemb_var33_1y3', 'delta_imp_trasp_var17_out_1y3',\n",
       "       'delta_imp_trasp_var33_out_1y3', 'delta_num_reemb_var33_1y3',\n",
       "       'delta_num_trasp_var17_out_1y3', 'delta_num_trasp_var33_out_1y3',\n",
       "       'imp_amort_var18_hace3', 'imp_amort_var18_ult1',\n",
       "       'imp_amort_var34_hace3', 'imp_amort_var34_ult1', 'imp_var7_emit_ult1',\n",
       "       'imp_reemb_var13_hace3', 'imp_reemb_var17_hace3',\n",
       "       'imp_reemb_var33_hace3', 'imp_reemb_var33_ult1',\n",
       "       'imp_trasp_var17_in_hace3', 'imp_trasp_var17_out_hace3',\n",
       "       'imp_trasp_var17_out_ult1', 'imp_trasp_var33_in_hace3',\n",
       "       'imp_trasp_var33_out_hace3', 'imp_trasp_var33_out_ult1',\n",
       "       'ind_var7_emit_ult1', 'num_var2_0_ult1', 'num_var2_ult1',\n",
       "       'num_var7_emit_ult1', 'num_meses_var13_medio_ult3',\n",
       "       'num_reemb_var13_hace3', 'num_reemb_var17_hace3',\n",
       "       'num_reemb_var33_hace3', 'num_reemb_var33_ult1',\n",
       "       'num_trasp_var17_in_hace3', 'num_trasp_var17_out_hace3',\n",
       "       'num_trasp_var17_out_ult1', 'num_trasp_var33_in_hace3',\n",
       "       'num_trasp_var33_out_hace3', 'num_trasp_var33_out_ult1',\n",
       "       'saldo_var2_ult1', 'saldo_medio_var13_medio_hace2',\n",
       "       'saldo_medio_var13_medio_hace3', 'saldo_medio_var13_medio_ult1',\n",
       "       'saldo_medio_var13_medio_ult3', 'saldo_medio_var29_hace3'],\n",
       "      dtype='object')"
      ]
     },
     "execution_count": 17,
     "metadata": {},
     "output_type": "execute_result"
    }
   ],
   "source": [
    "X.columns[constant_list]"
   ]
  },
  {
   "cell_type": "code",
   "execution_count": 18,
   "id": "c51ae277",
   "metadata": {},
   "outputs": [],
   "source": [
    "X_train_filter=constant_filter.transform(X_train)\n",
    "X_test_filter=constant_filter.transform(X_test)"
   ]
  },
  {
   "cell_type": "code",
   "execution_count": 19,
   "id": "245e136a",
   "metadata": {},
   "outputs": [
    {
     "data": {
      "text/plain": [
       "((16000, 370), (4000, 370), (16000, 291), (4000, 291))"
      ]
     },
     "execution_count": 19,
     "metadata": {},
     "output_type": "execute_result"
    }
   ],
   "source": [
    "X_train.shape,X_test.shape,X_train_filter.shape,X_test_filter.shape"
   ]
  },
  {
   "cell_type": "markdown",
   "id": "80569d50",
   "metadata": {},
   "source": [
    "### Quasi Constant Removal"
   ]
  },
  {
   "cell_type": "markdown",
   "id": "76f1102b",
   "metadata": {},
   "source": [
    "When threshold = 0.01 almost similar features 99%"
   ]
  },
  {
   "cell_type": "code",
   "execution_count": 28,
   "id": "76b73190",
   "metadata": {},
   "outputs": [
    {
     "data": {
      "text/plain": [
       "VarianceThreshold(threshold=0.01)"
      ]
     },
     "execution_count": 28,
     "metadata": {},
     "output_type": "execute_result"
    }
   ],
   "source": [
    "quasi_constant_filter= VarianceThreshold(threshold=0.01)\n",
    "quasi_constant_filter.fit(X_train_filter)"
   ]
  },
  {
   "cell_type": "code",
   "execution_count": 29,
   "id": "e11680c4",
   "metadata": {},
   "outputs": [
    {
     "data": {
      "text/plain": [
       "245"
      ]
     },
     "execution_count": 29,
     "metadata": {},
     "output_type": "execute_result"
    }
   ],
   "source": [
    "quasi_constant_filter.get_support().sum()"
   ]
  },
  {
   "cell_type": "code",
   "execution_count": 34,
   "id": "20882815",
   "metadata": {},
   "outputs": [],
   "source": [
    "X_train_quasi_filter=quasi_constant_filter.transform(X_train_filter)\n",
    "X_test_quasi_filter=quasi_constant_filter.transform(X_test_filter)"
   ]
  },
  {
   "cell_type": "code",
   "execution_count": 35,
   "id": "28f54fb0",
   "metadata": {},
   "outputs": [
    {
     "data": {
      "text/plain": [
       "((16000, 370),\n",
       " (4000, 370),\n",
       " (16000, 291),\n",
       " (4000, 291),\n",
       " (16000, 245),\n",
       " (4000, 245))"
      ]
     },
     "execution_count": 35,
     "metadata": {},
     "output_type": "execute_result"
    }
   ],
   "source": [
    "X_train.shape,X_test.shape,X_train_filter.shape,X_test_filter.shape,X_train_quasi_filter.shape,X_test_quasi_filter.shape"
   ]
  },
  {
   "cell_type": "markdown",
   "id": "b7de43a8",
   "metadata": {},
   "source": [
    "### Remove Duplicate Features "
   ]
  },
  {
   "cell_type": "markdown",
   "id": "2122a65f",
   "metadata": {},
   "source": [
    "Two columns have the same value."
   ]
  },
  {
   "cell_type": "code",
   "execution_count": 39,
   "id": "1d26b8a8",
   "metadata": {},
   "outputs": [],
   "source": [
    "X_train_T=X_train_quasi_filter.T\n",
    "X_test_T=X_test_quasi_filter.T"
   ]
  },
  {
   "cell_type": "code",
   "execution_count": 40,
   "id": "215c024a",
   "metadata": {},
   "outputs": [
    {
     "data": {
      "text/plain": [
       "numpy.ndarray"
      ]
     },
     "execution_count": 40,
     "metadata": {},
     "output_type": "execute_result"
    }
   ],
   "source": [
    "type(X_train_T)"
   ]
  },
  {
   "cell_type": "code",
   "execution_count": 43,
   "id": "822d0da3",
   "metadata": {},
   "outputs": [],
   "source": [
    "X_train_T=pd.DataFrame(X_train_T)\n",
    "X_test_T=pd.DataFrame(X_test_T)"
   ]
  },
  {
   "cell_type": "code",
   "execution_count": 44,
   "id": "1b7c6aa9",
   "metadata": {},
   "outputs": [
    {
     "data": {
      "text/plain": [
       "((245, 16000), (245, 4000))"
      ]
     },
     "execution_count": 44,
     "metadata": {},
     "output_type": "execute_result"
    }
   ],
   "source": [
    "X_train_T.shape,X_test_T.shape"
   ]
  },
  {
   "cell_type": "code",
   "execution_count": 46,
   "id": "b6fb713f",
   "metadata": {},
   "outputs": [
    {
     "data": {
      "text/plain": [
       "18"
      ]
     },
     "execution_count": 46,
     "metadata": {},
     "output_type": "execute_result"
    }
   ],
   "source": [
    "X_train_T.duplicated().sum()"
   ]
  },
  {
   "cell_type": "code",
   "execution_count": 47,
   "id": "be898080",
   "metadata": {},
   "outputs": [
    {
     "data": {
      "text/plain": [
       "33"
      ]
     },
     "execution_count": 47,
     "metadata": {},
     "output_type": "execute_result"
    }
   ],
   "source": [
    "X_test_T.duplicated().sum()"
   ]
  },
  {
   "cell_type": "code",
   "execution_count": 51,
   "id": "3db357bb",
   "metadata": {},
   "outputs": [
    {
     "data": {
      "text/plain": [
       "0      False\n",
       "1      False\n",
       "2      False\n",
       "3      False\n",
       "4      False\n",
       "       ...  \n",
       "240    False\n",
       "241    False\n",
       "242    False\n",
       "243    False\n",
       "244    False\n",
       "Length: 245, dtype: bool"
      ]
     },
     "execution_count": 51,
     "metadata": {},
     "output_type": "execute_result"
    }
   ],
   "source": [
    "X_train_T.duplicated()"
   ]
  },
  {
   "cell_type": "code",
   "execution_count": 54,
   "id": "85414591",
   "metadata": {},
   "outputs": [],
   "source": [
    "duplicated_feature=X_train_T.duplicated()"
   ]
  },
  {
   "cell_type": "code",
   "execution_count": 57,
   "id": "20834afc",
   "metadata": {},
   "outputs": [],
   "source": [
    "features_to_keep=[not index for index in duplicated_feature]"
   ]
  },
  {
   "cell_type": "code",
   "execution_count": 60,
   "id": "1fe7c15b",
   "metadata": {},
   "outputs": [],
   "source": [
    "X_train_unique = X_train_T[features_to_keep].T\n",
    "X_test_unique = X_test_T[features_to_keep].T"
   ]
  },
  {
   "cell_type": "code",
   "execution_count": 62,
   "id": "60b56330",
   "metadata": {},
   "outputs": [
    {
     "data": {
      "text/plain": [
       "((16000, 227), (4000, 227))"
      ]
     },
     "execution_count": 62,
     "metadata": {},
     "output_type": "execute_result"
    }
   ],
   "source": [
    "X_train_unique.shape,X_test_unique.shape"
   ]
  },
  {
   "cell_type": "code",
   "execution_count": 66,
   "id": "4d3cb0d7",
   "metadata": {},
   "outputs": [
    {
     "data": {
      "text/plain": [
       "((16000, 370), (16000, 227))"
      ]
     },
     "execution_count": 66,
     "metadata": {},
     "output_type": "execute_result"
    }
   ],
   "source": [
    "X_train.shape,X_train_unique.shape"
   ]
  },
  {
   "cell_type": "code",
   "execution_count": 67,
   "id": "14b7ce3a",
   "metadata": {},
   "outputs": [
    {
     "data": {
      "text/plain": [
       "143"
      ]
     },
     "execution_count": 67,
     "metadata": {},
     "output_type": "execute_result"
    }
   ],
   "source": [
    "370-227"
   ]
  },
  {
   "cell_type": "markdown",
   "id": "4f844cfb",
   "metadata": {},
   "source": [
    "### Machine Learning Model to compare the performance of original features vs features after univariate variance filtering method "
   ]
  },
  {
   "cell_type": "code",
   "execution_count": 68,
   "id": "d794219c",
   "metadata": {},
   "outputs": [],
   "source": [
    "def run_randomForest(X_train,X_test,y_train,y_test):\n",
    "    clf=RandomForestClassifier(n_estimators=100,random_state=0,n_jobs=-1)\n",
    "    clf.fit(X_train,y_train)\n",
    "    y_pred=clf.predict(X_test)\n",
    "    print('Accuracy on test set:')\n",
    "    print(accuracy_score(y_test,y_pred))"
   ]
  },
  {
   "cell_type": "code",
   "execution_count": 77,
   "id": "c2a307d9",
   "metadata": {},
   "outputs": [
    {
     "name": "stdout",
     "output_type": "stream",
     "text": [
      "Accuracy on test set:\n",
      "0.95875\n",
      "CPU times: user 6.77 s, sys: 124 ms, total: 6.89 s\n",
      "Wall time: 2.01 s\n"
     ]
    }
   ],
   "source": [
    "%%time\n",
    "run_randomForest(X_train_unique,X_test_unique,y_train,y_test)"
   ]
  },
  {
   "cell_type": "code",
   "execution_count": 78,
   "id": "10abbe45",
   "metadata": {},
   "outputs": [
    {
     "name": "stdout",
     "output_type": "stream",
     "text": [
      "Accuracy on test set:\n",
      "0.9585\n",
      "CPU times: user 8.24 s, sys: 198 ms, total: 8.43 s\n",
      "Wall time: 2.71 s\n"
     ]
    }
   ],
   "source": [
    "%%time\n",
    "run_randomForest(X_train,X_test,y_train,y_test)"
   ]
  },
  {
   "cell_type": "code",
   "execution_count": 80,
   "id": "e2870e4c",
   "metadata": {},
   "outputs": [
    {
     "data": {
      "text/plain": [
       "25.830258302583033"
      ]
     },
     "execution_count": 80,
     "metadata": {},
     "output_type": "execute_result"
    }
   ],
   "source": [
    "(2.71-2.01)*100/2.71"
   ]
  },
  {
   "cell_type": "code",
   "execution_count": null,
   "id": "0dbd2ae6",
   "metadata": {},
   "outputs": [],
   "source": []
  }
 ],
 "metadata": {
  "kernelspec": {
   "display_name": "Python 3",
   "language": "python",
   "name": "python3"
  },
  "language_info": {
   "codemirror_mode": {
    "name": "ipython",
    "version": 3
   },
   "file_extension": ".py",
   "mimetype": "text/x-python",
   "name": "python",
   "nbconvert_exporter": "python",
   "pygments_lexer": "ipython3",
   "version": "3.8.8"
  }
 },
 "nbformat": 4,
 "nbformat_minor": 5
}
